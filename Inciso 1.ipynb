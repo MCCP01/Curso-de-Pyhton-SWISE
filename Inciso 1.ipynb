{
 "cells": [
  {
   "cell_type": "code",
   "execution_count": 2,
   "metadata": {},
   "outputs": [],
   "source": [
    "# X(t)"
   ]
  },
  {
   "cell_type": "code",
   "execution_count": 25,
   "metadata": {},
   "outputs": [
    {
     "name": "stdout",
     "output_type": "stream",
     "text": [
      "agregue la posición inicial(m): 4\n",
      "4.0\n"
     ]
    }
   ],
   "source": [
    "Xo=float(input(\"agregue la posición inicial(m): \"))\n",
    "print(Xo)"
   ]
  },
  {
   "cell_type": "code",
   "execution_count": 26,
   "metadata": {},
   "outputs": [
    {
     "name": "stdout",
     "output_type": "stream",
     "text": [
      "agregue la rapidez inicial(m/s): 7\n",
      "7.0\n"
     ]
    }
   ],
   "source": [
    "Vxo=float(input(\"agregue la rapidez inicial(m/s): \"))\n",
    "print(Vxo)"
   ]
  },
  {
   "cell_type": "code",
   "execution_count": 22,
   "metadata": {},
   "outputs": [
    {
     "name": "stdout",
     "output_type": "stream",
     "text": [
      "asigne valor al tiempo (s): 4\n",
      "4.0\n"
     ]
    }
   ],
   "source": [
    "t=float(input(\"asigne valor al tiempo (s): \"))\n",
    "if t<0:\n",
    "    print(\"el valor debe ser mayor o igual que cero \")\n",
    "elif t>=0:\n",
    "    print(t)"
   ]
  },
  {
   "cell_type": "code",
   "execution_count": 27,
   "metadata": {},
   "outputs": [
    {
     "name": "stdout",
     "output_type": "stream",
     "text": [
      "32.0\n"
     ]
    }
   ],
   "source": [
    "X=Xo+Vxo*t\n",
    "print(X)"
   ]
  },
  {
   "cell_type": "code",
   "execution_count": 28,
   "metadata": {},
   "outputs": [],
   "source": [
    "# Y(t)\n"
   ]
  },
  {
   "cell_type": "code",
   "execution_count": 29,
   "metadata": {},
   "outputs": [
    {
     "name": "stdout",
     "output_type": "stream",
     "text": [
      "agregue la altura inicial(m): 4\n",
      "4.0\n"
     ]
    }
   ],
   "source": [
    "Yo=float(input(\"agregue la altura inicial(m): \"))\n",
    "print(Yo)"
   ]
  },
  {
   "cell_type": "code",
   "execution_count": 30,
   "metadata": {},
   "outputs": [
    {
     "name": "stdout",
     "output_type": "stream",
     "text": [
      "agregue la rapidez inicial(m/s): 9\n",
      "9.0\n"
     ]
    }
   ],
   "source": [
    "Vyo=float(input(\"agregue la rapidez inicial(m/s): \"))\n",
    "print(Vyo)"
   ]
  },
  {
   "cell_type": "code",
   "execution_count": 31,
   "metadata": {},
   "outputs": [
    {
     "name": "stdout",
     "output_type": "stream",
     "text": [
      "asigne valor al tiempo (s): 89\n",
      "89.0\n"
     ]
    }
   ],
   "source": [
    "t=float(input(\"asigne valor al tiempo (s): \"))\n",
    "if t<0:\n",
    "    print(\"el valor debe ser mayor o igual que cero \")\n",
    "elif t>=0:\n",
    "    print(t)"
   ]
  },
  {
   "cell_type": "code",
   "execution_count": 32,
   "metadata": {},
   "outputs": [
    {
     "name": "stdout",
     "output_type": "stream",
     "text": [
      "asigne el valor de la aceleración(m/s^2): 9.81\n",
      "9.81\n"
     ]
    }
   ],
   "source": [
    "a=float(input(\"asigne el valor de la aceleración(m/s^2): \"))\n",
    "print(a)"
   ]
  },
  {
   "cell_type": "code",
   "execution_count": 33,
   "metadata": {},
   "outputs": [
    {
     "name": "stdout",
     "output_type": "stream",
     "text": [
      "39657.505000000005\n"
     ]
    }
   ],
   "source": [
    "Y=Yo+Vyo*t+(a*t**2)/2\n",
    "print(Y)"
   ]
  },
  {
   "cell_type": "code",
   "execution_count": null,
   "metadata": {},
   "outputs": [],
   "source": []
  }
 ],
 "metadata": {
  "kernelspec": {
   "display_name": "Python 3",
   "language": "python",
   "name": "python3"
  },
  "language_info": {
   "codemirror_mode": {
    "name": "ipython",
    "version": 3
   },
   "file_extension": ".py",
   "mimetype": "text/x-python",
   "name": "python",
   "nbconvert_exporter": "python",
   "pygments_lexer": "ipython3",
   "version": "3.8.3"
  },
  "widgets": {
   "application/vnd.jupyter.widget-state+json": {
    "state": {},
    "version_major": 2,
    "version_minor": 0
   }
  }
 },
 "nbformat": 4,
 "nbformat_minor": 4
}
