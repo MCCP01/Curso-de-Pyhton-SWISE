{
 "cells": [
  {
   "cell_type": "code",
   "execution_count": 3,
   "metadata": {},
   "outputs": [],
   "source": [
    "# ¿A qué ángulo  debemos colocar el cañón situado en el origen (0,0), para que la bala destruya el\n",
    "# castillo enemigo en un punto (Px, Py) y dimensiones h X w ?"
   ]
  },
  {
   "cell_type": "code",
   "execution_count": 8,
   "metadata": {},
   "outputs": [
    {
     "data": {
      "text/plain": [
       "'Dadas las ecuaciones de MRU Y MRUA para los ejes x, y, respectivamente: X=Xo+Vxo*t, Vx=Vxo; Y=Yo+Vyo*t+(a*t^2)/2, Vy=Vyo+a*t'"
      ]
     },
     "execution_count": 8,
     "metadata": {},
     "output_type": "execute_result"
    }
   ],
   "source": [
    "f\"Dadas las ecuaciones de MRU Y MRUA para los ejes x, y, respectivamente: X=Xo+Vxo*t, Vx=Vxo; Y=Yo+Vyo*t+(a*t^2)/2, Vy=Vyo+a*t\""
   ]
  },
  {
   "cell_type": "code",
   "execution_count": 24,
   "metadata": {},
   "outputs": [
    {
     "name": "stdout",
     "output_type": "stream",
     "text": [
      "9.8\n"
     ]
    }
   ],
   "source": [
    "Xo=0\n",
    "Yo=0\n",
    "Vy=0\n",
    "a=-9.81\n",
    "print(a*-1)"
   ]
  },
  {
   "cell_type": "code",
   "execution_count": 25,
   "metadata": {},
   "outputs": [
    {
     "data": {
      "text/plain": [
       "'Con Xo=0 m, Yo=0 m, a=-9.8 m/s^2 y Vy=0 m/s'"
      ]
     },
     "execution_count": 25,
     "metadata": {},
     "output_type": "execute_result"
    }
   ],
   "source": [
    "f\"Con Xo={Xo} m, Yo={Yo} m, a={a} m/s^2 y Vy={Vy} m/s\""
   ]
  },
  {
   "cell_type": "code",
   "execution_count": 19,
   "metadata": {},
   "outputs": [
    {
     "data": {
      "text/plain": [
       "'Por medio de un triángulo rectángulo, donde la hipotenusa es la trayectoria de la bala, el cateto opuesto es la pared del castillo, y el cateto adyacente es la distancia del cañon al pie de la pared del castillo, tenemos que: Vox=Vo*cosθ, Vyo=Vo*senθ'"
      ]
     },
     "execution_count": 19,
     "metadata": {},
     "output_type": "execute_result"
    }
   ],
   "source": [
    "f\"Por medio de un triángulo rectángulo, donde la hipotenusa es la trayectoria de la bala, el cateto opuesto es la pared del castillo, y el cateto adyacente es la distancia del cañon al pie de la pared del castillo, tenemos que: Vox=Vo*cosθ, Vyo=Vo*senθ\""
   ]
  },
  {
   "cell_type": "code",
   "execution_count": 27,
   "metadata": {},
   "outputs": [
    {
     "data": {
      "text/plain": [
       "'Escribiendo Vy=Vyo+a*t de otra manera, tenemos: 0=Vo*sen0+-9.8*t... es equivalente a: Vo*sen0=9.81*t'"
      ]
     },
     "execution_count": 27,
     "metadata": {},
     "output_type": "execute_result"
    }
   ],
   "source": [
    "f\"Escribiendo Vy=Vyo+a*t de otra manera, tenemos: {Vy}=Vo*senθ+{a}*t... es equivalente a: Vo*senθ=9.81*t\""
   ]
  },
  {
   "cell_type": "code",
   "execution_count": 28,
   "metadata": {},
   "outputs": [
    {
     "data": {
      "text/plain": [
       "'También X=Xo+Vxo*t escrita de otra manera: X=0+Vo*cosθ*t, equivale a: X=Vo*cosθ*t'"
      ]
     },
     "execution_count": 28,
     "metadata": {},
     "output_type": "execute_result"
    }
   ],
   "source": [
    "f\"También X=Xo+Vxo*t escrita de otra manera: X={Xo}+Vo*cosθ*t, equivale a: X=Vo*cosθ*t\""
   ]
  },
  {
   "cell_type": "code",
   "execution_count": 29,
   "metadata": {},
   "outputs": [
    {
     "data": {
      "text/plain": [
       "'Diviendo las ecuaciones resultantes: Vo*senθ=9.81*t , X=Vo*cosθ*t, tenemos:'"
      ]
     },
     "execution_count": 29,
     "metadata": {},
     "output_type": "execute_result"
    }
   ],
   "source": [
    "f\"Diviendo las ecuaciones resultantes: Vo*senθ=9.81*t , X=Vo*cosθ*t, tenemos:\""
   ]
  },
  {
   "cell_type": "code",
   "execution_count": 31,
   "metadata": {},
   "outputs": [
    {
     "data": {
      "text/plain": [
       "'9.81*t / X = Vo*senθ / Vo*cosθ*t... quedaría como: 9.81*t^2 / X = tanθ'"
      ]
     },
     "execution_count": 31,
     "metadata": {},
     "output_type": "execute_result"
    }
   ],
   "source": [
    "f\"9.81*t / X = Vo*senθ / Vo*cosθ*t... quedaría como: 9.81*t^2 / X = tanθ\""
   ]
  },
  {
   "cell_type": "code",
   "execution_count": 32,
   "metadata": {},
   "outputs": [
    {
     "data": {
      "text/plain": [
       "'Entonces, para encontrar el ángulo θ: θ=arctan(9.81*t^2 / X)'"
      ]
     },
     "execution_count": 32,
     "metadata": {},
     "output_type": "execute_result"
    }
   ],
   "source": [
    "f\"Entonces, para encontrar el ángulo θ: θ=arctan(9.81*t^2 / X)\""
   ]
  },
  {
   "cell_type": "code",
   "execution_count": 34,
   "metadata": {},
   "outputs": [
    {
     "name": "stdout",
     "output_type": "stream",
     "text": [
      "Introduzca el valor de t(s): 4\n",
      "4.0\n"
     ]
    }
   ],
   "source": [
    "t=float(input(\"Introduzca el valor de t(s): \"))\n",
    "print(t)"
   ]
  },
  {
   "cell_type": "code",
   "execution_count": 38,
   "metadata": {},
   "outputs": [
    {
     "name": "stdout",
     "output_type": "stream",
     "text": [
      "Introduzca el valor de X(m): 9\n"
     ]
    }
   ],
   "source": [
    "X=float(input(\"Introduzca el valor de X(m): \"))"
   ]
  },
  {
   "cell_type": "code",
   "execution_count": 41,
   "metadata": {},
   "outputs": [],
   "source": [
    ">>> import math"
   ]
  },
  {
   "cell_type": "code",
   "execution_count": 42,
   "metadata": {},
   "outputs": [
    {
     "data": {
      "text/plain": [
       "1.5135195940318977"
      ]
     },
     "execution_count": 42,
     "metadata": {},
     "output_type": "execute_result"
    }
   ],
   "source": [
    ">>> math.atan(9.81*t**2 / X)"
   ]
  },
  {
   "cell_type": "code",
   "execution_count": 45,
   "metadata": {},
   "outputs": [],
   "source": [
    "θ=math.atan(9.81*t**2 / X)"
   ]
  },
  {
   "cell_type": "code",
   "execution_count": null,
   "metadata": {},
   "outputs": [],
   "source": []
  }
 ],
 "metadata": {
  "kernelspec": {
   "display_name": "Python 3",
   "language": "python",
   "name": "python3"
  },
  "language_info": {
   "codemirror_mode": {
    "name": "ipython",
    "version": 3
   },
   "file_extension": ".py",
   "mimetype": "text/x-python",
   "name": "python",
   "nbconvert_exporter": "python",
   "pygments_lexer": "ipython3",
   "version": "3.8.3"
  },
  "widgets": {
   "application/vnd.jupyter.widget-state+json": {
    "state": {},
    "version_major": 2,
    "version_minor": 0
   }
  }
 },
 "nbformat": 4,
 "nbformat_minor": 4
}
